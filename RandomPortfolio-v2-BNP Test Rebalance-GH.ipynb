{
 "cells": [
  {
   "cell_type": "markdown",
   "metadata": {},
   "source": [
    "# Random Portfolio Risk Assesment - One test"
   ]
  },
  {
   "cell_type": "markdown",
   "metadata": {},
   "source": [
    "The purpuse of this Notebook is to assess the risks of investing your money in a indexed portfolio. We take into acount ongoing costs (OGC) and inflation. "
   ]
  },
  {
   "cell_type": "markdown",
   "metadata": {},
   "source": [
    "## Loading modules"
   ]
  },
  {
   "cell_type": "code",
   "execution_count": 1,
   "metadata": {},
   "outputs": [],
   "source": [
    "import numpy as np\n",
    "import seaborn as sns\n",
    "import matplotlib.pyplot as plt"
   ]
  },
  {
   "cell_type": "markdown",
   "metadata": {},
   "source": [
    "## Assumptions"
   ]
  },
  {
   "cell_type": "code",
   "execution_count": 2,
   "metadata": {},
   "outputs": [],
   "source": [
    "T             = 25          # Total number of years that you will invest\n",
    "N             = 12          # Number of months\n",
    "n             = 21          # Trading days in the month\n",
    "deltat        = 1/N         # Time step\n",
    "Ns            = 10000        # Number of simulations\n",
    "\n",
    "seedMoney     = 50000       # Initial amount of seed money invested\n",
    "contriv       = 12*1000     # Periodic contribution (it will be increased by inflation)\n",
    "\n",
    "# Fund num 1\n",
    "mu1            = 7          # (yearly) We assume that the interest has a gaussian distribution with...\n",
    "sig1           = 18          # mean equal to meanInterest and standard dev equal to sdInterest\n",
    "ogc1           = 0.3         # Cost of the index fund\n",
    "\n",
    "balancing      = 0.6         # balancing updated every year\n",
    "rebalancing    = True       # shall we rebalance once a year?\n",
    "\n",
    "#Fund num 2\n",
    "mu2             = 5          # (yearly) We assume that the interest has a gaussian distribution with...\n",
    "sig2            = 5           # mean equal to meanInterest and standard dev equal to sdInterest\n",
    "ogc2            = 0.2           # Cost of the index fund\n",
    "\n",
    "\n",
    "tax           = 0.19        # Taxation IVA\n",
    "\n",
    "inflation = 2.5     # Inflation \n",
    "pensionRate = 3     # Save Withdrawal Rate (SWR)"
   ]
  },
  {
   "cell_type": "markdown",
   "metadata": {},
   "source": [
    "# Actual model"
   ]
  },
  {
   "cell_type": "markdown",
   "metadata": {},
   "source": [
    "### Initialize variables"
   ]
  },
  {
   "cell_type": "code",
   "execution_count": 4,
   "metadata": {},
   "outputs": [],
   "source": [
    "inflationEnd     = np.empty((0,1), np.float64)     # Inflation over 25 years period\n",
    "capitalEvolution = np.empty((0,1), np.float64)     # How my capital has evolved? It's yearly\n",
    "averageInterest  = np.empty((0,1), np.float64)     # Mean interest of the year\n",
    "capital1Cum      = np.empty((T,Ns), np.float64)    # Growing capital Fund 1\n",
    "capital2Cum      = np.empty((T,Ns), np.float64)    # Growing capital Fund 2\n",
    "capitalCum       = np.empty((T,Ns), np.float64)    # Growing total capital Fund 1 + Fund 2\n",
    "capitalEnd       = np.empty((0,1), np.float64)     # Capital after time T\n",
    "\n",
    "seed             = 5                               # Random seed \n",
    "np.random.seed(seed)                               # Initialize random seed for reproducibility"
   ]
  },
  {
   "cell_type": "markdown",
   "metadata": {},
   "source": [
    "## Geometric Brownian motion "
   ]
  },
  {
   "cell_type": "markdown",
   "metadata": {},
   "source": [
    "We model the stock behavior as a GBM. See more details here: https://en.wikipedia.org/wiki/Geometric_Brownian_motion"
   ]
  },
  {
   "cell_type": "code",
   "execution_count": 5,
   "metadata": {},
   "outputs": [],
   "source": [
    "\n",
    "\n",
    "for i in range(0,Ns): # Loop over the simulations\n",
    "    \n",
    "    capitalTotal    = seedMoney \n",
    "    TOTAL_invested  = seedMoney  # Amount of money invested (no inflation) \n",
    "    contrivInf      = contriv    # Periodic contributions incremented by inflation\n",
    "    \n",
    "    capital1        = capitalTotal*balancing      \n",
    "    capital2        = capitalTotal*(1-balancing) \n",
    "    \n",
    "    for j in range(0,T): # Loop over the years\n",
    "    \n",
    "        if rebalancing is True:\n",
    "            capital1 = capitalTotal*balancing      \n",
    "            capital2 = capitalTotal*(1-balancing) \n",
    "            del capitalTotal\n",
    "        \n",
    "        capital1Cum[j,i] = capital1\n",
    "        capital2Cum[j,i] = capital2\n",
    "        \n",
    "        for k in range(0,N): # Monthly loop\n",
    "            \n",
    "            # Random interest, sum across the month\n",
    "            intrestVar1 = np.sum(mu1*deltat/100/n + sig1*(np.sqrt(deltat/n)*np.random.normal(0,1,n))/100) \n",
    "            intrestVar2 = np.sum(mu2*deltat/100/n + sig2*(np.sqrt(deltat/n)*np.random.normal(0,1,n))/100) \n",
    "            \n",
    "            # How capital is affected + contrivInf\n",
    "            capital1 += capital1*intrestVar1\n",
    "            capital2 += capital2*intrestVar2\n",
    "            \n",
    "            # Let's add the montly payment \n",
    "            capital1 += balancing*contrivInf/N\n",
    "            capital2 += (1-balancing)*contrivInf/N\n",
    "                        \n",
    "            del intrestVar1\n",
    "            del intrestVar2\n",
    "        \n",
    "        # Update total anount invested\n",
    "        TOTAL_invested = TOTAL_invested + contrivInf\n",
    "        \n",
    "        # Update the contribution for inflation\n",
    "        contrivInf = contrivInf + (contrivInf*inflation/100)\n",
    "        \n",
    "     \n",
    "        if rebalancing is True:\n",
    "            # Subtrack ongoing charges OGC\n",
    "            capitalTotal = capital1 + capital2 - (capital1*ogc1/100) - (capital2*ogc2/100)  \n",
    "            \n",
    "            # Del capital1 and 2\n",
    "            del capital1\n",
    "            del capital2\n",
    "        else:\n",
    "            capital1 = capital1 - (capital1*ogc1/100)\n",
    "            capital2 = capital2 - (capital2*ogc2/100)\n",
    "            capitalTotal = capital1 + capital2\n",
    "        \n",
    "        capitalCum[j,i] = capitalTotal\n",
    "\n",
    "        \n",
    "    # Add the final capital for each simulation Ns\n",
    "    capitalEnd = np.append(capitalEnd, capitalTotal)\n",
    "    \n",
    "    del capitalTotal\n",
    "    del contrivInf\n",
    "    del i\n",
    "    del j\n",
    "    del k\n",
    "\n",
    "capitalEndInf = capitalEnd/(1+T*inflation/100); # Correct final money for inflation\n",
    "TOTAL_investedInf = TOTAL_invested/(1+T*inflation/100)"
   ]
  },
  {
   "cell_type": "markdown",
   "metadata": {},
   "source": [
    "# Distribution of possible outcomes"
   ]
  },
  {
   "cell_type": "code",
   "execution_count": 8,
   "metadata": {},
   "outputs": [
    {
     "data": {
      "text/plain": [
       "[<matplotlib.lines.Line2D at 0x1a1d2b9208>]"
      ]
     },
     "execution_count": 8,
     "metadata": {},
     "output_type": "execute_result"
    },
    {
     "data": {
      "image/png": "[encoded data removed]",
      "text/plain": [
       "<Figure size 432x288 with 1 Axes>"
      ]
     },
     "metadata": {
      "needs_background": "light"
     },
     "output_type": "display_data"
    }
   ],
   "source": [
    "\n",
    "ax = sns.distplot(capitalEnd/1000000, kde=False, rug=False, bins=80); \n",
    "ax.set_title(' ')\n",
    "ax.set_xlabel('Millones de €')\n",
    "ax.set_ylabel('Número de simulaciones')\n",
    "ax.set_xlim(0,4)\n",
    "\n",
    "plt.plot([TOTAL_invested/1000000, TOTAL_invested/1000000], [0, Ns/15])\n"
   ]
  },
  {
   "cell_type": "markdown",
   "metadata": {},
   "source": [
    "# What would be my monthly pension for given SWR?"
   ]
  },
  {
   "cell_type": "markdown",
   "metadata": {},
   "source": [
    "We establish a SWR and we substratct inflation and taxes"
   ]
  },
  {
   "cell_type": "code",
   "execution_count": 9,
   "metadata": {},
   "outputs": [
    {
     "name": "stderr",
     "output_type": "stream",
     "text": [
      "/Users/raimon/anaconda/envs/py36/lib/python3.6/site-packages/scipy/stats/stats.py:1713: FutureWarning: Using a non-tuple sequence for multidimensional indexing is deprecated; use `arr[tuple(seq)]` instead of `arr[seq]`. In the future this will be interpreted as an array index, `arr[np.array(seq)]`, which will result either in an error or a different result.\n",
      "  return np.add.reduce(sorted[indexer] * weights, axis=axis) / sumval\n"
     ]
    },
    {
     "data": {
      "text/plain": [
       "(0, 10000)"
      ]
     },
     "execution_count": 9,
     "metadata": {},
     "output_type": "execute_result"
    },
    {
     "data": {
      "image/png": "[encoded data removed]",
      "text/plain": [
       "<Figure size 432x288 with 1 Axes>"
      ]
     },
     "metadata": {
      "needs_background": "light"
     },
     "output_type": "display_data"
    }
   ],
   "source": [
    "pension = (capitalEnd*pensionRate/100/12)*(1-tax)/(1+T*inflation/100)\n",
    "p10 = np.percentile(pension, q=[10])\n",
    "\n",
    "\n",
    "hist, bin_edges = np.histogram(pension, density=False)\n",
    "ax = sns.distplot(pension, kde=False, rug=False)\n",
    "ax.set_title('Distribution of possible pensions (inflation corrected + taxes)')\n",
    "ax.set_xlabel('Pension amount (€)')\n",
    "ax.set_ylabel('Count')\n",
    "plt.plot([p10, p10], [0, Ns/10])\n",
    "plt.plot([2000, 2000], [0, Ns/10])\n",
    "ax.set_xlim(0,10000)"
   ]
  },
  {
   "cell_type": "markdown",
   "metadata": {},
   "source": [
    "# Final Results"
   ]
  },
  {
   "cell_type": "markdown",
   "metadata": {},
   "source": [
    "Summary of the results of this Monte Carlo simulation"
   ]
  },
  {
   "cell_type": "code",
   "execution_count": 10,
   "metadata": {},
   "outputs": [
    {
     "name": "stdout",
     "output_type": "stream",
     "text": [
      "Total Years: 25\n",
      "Number of simulation: 10000\n",
      "Seed Money: 50000€\n",
      "Periodic Amount Monthly: 1000.0€\n",
      "Taxes: 19.0%\n",
      "Anual Inflation: 2.5%\n",
      "Safe Withdrawal Rate (SWR): 3%\n",
      "Rebalancing: True\n",
      " \n",
      "_________Fund 1__________\n",
      "mu1: 7\n",
      "sig1: 18\n",
      "ogc1:0.3\n",
      "Balancing: 0.6\n",
      " \n",
      "_________Fund 2__________\n",
      "mu2: 5\n",
      "sig2: 5\n",
      "ogc2:0.2\n",
      "Balancing: 0.4\n",
      " \n",
      "Total invested (sense inflació): 459893.0 €\n",
      "Probabilitat millor que no fer res : 99.0%\n",
      "Probabilitat vencer la inflació : 79.0%\n",
      "  \n",
      "Estalvis entre: 392373.0€ i 1015853.0€\n",
      "Mediana capital: 614420.0€ \n",
      "Pensio entre: 795.0€ i 2057.0€\n",
      "Probabilitat Pensio > 2000 Euros: 11.0%\n",
      "Median Pension: 1244.0\n"
     ]
    }
   ],
   "source": [
    "print('Total Years: ' + str(T))\n",
    "print('Number of simulation: ' + str(Ns))\n",
    "print('Seed Money: ' + str(seedMoney)+'€')\n",
    "print('Periodic Amount Monthly: ' + str(contriv/12)+'€')\n",
    "print('Taxes: ' + str(tax*100)+'%')\n",
    "print('Anual Inflation: ' + str(inflation)+'%')\n",
    "print('Safe Withdrawal Rate (SWR): ' + str(pensionRate) + '%')\n",
    "print('Rebalancing: ' + str(rebalancing))\n",
    "\n",
    "print(' ')\n",
    "print('_________Fund 1__________')\n",
    "print('mu1: '     + str(mu1))\n",
    "print('sig1: '    + str(sig1))\n",
    "print('ogc1:'     + str(ogc1))\n",
    "print('Balancing: ' + str(balancing))\n",
    "print(' ')\n",
    "print('_________Fund 2__________')\n",
    "print('mu2: '     + str(mu2))\n",
    "print('sig2: '    + str(sig2))\n",
    "print('ogc2:'     + str(ogc2))\n",
    "print('Balancing: ' + str(1-balancing))\n",
    "print(' ')\n",
    "print('Total invested (sense inflació): ' + str(np.round(TOTAL_invested)) + ' €')\n",
    "print('Probabilitat millor que no fer res : ' + str(np.round((np.size(np.where(capitalEndInf > TOTAL_investedInf))/Ns)*100)) + '%')\n",
    "print('Probabilitat vencer la inflació : ' + str(np.round((np.size(np.where(capitalEndInf > TOTAL_invested))/Ns)*100)) + '%')\n",
    "print('  ')\n",
    "m = stats.mode(np.round(capitalEndInf), axis=None)\n",
    "print('Estalvis entre: ' + str(np.round(np.percentile(capitalEndInf, q=10))) + '€ i ' + str(np.round(np.percentile(capitalEndInf, q=90)))+'€')\n",
    "print('Mediana capital: ' + str(np.round(np.median(capitalEndInf))) + '€ ')\n",
    "print('Pensio entre: ' + str(np.round(np.percentile(pension, q=10))) + '€ i ' + str(np.round(np.percentile(pension, q=90)))+'€')\n",
    "print('Probabilitat Pensio > 2000 Euros: ' + str(np.round((np.size(np.where(pension > 2000))/Ns)*100)) + '%')\n",
    "print('Median Pension: ' + str(np.round(np.median(pension))))"
   ]
  }
 ],
 "metadata": {
  "kernelspec": {
   "display_name": "Python 3",
   "language": "python",
   "name": "python3"
  },
  "language_info": {
   "codemirror_mode": {
    "name": "ipython",
    "version": 3
   },
   "file_extension": ".py",
   "mimetype": "text/x-python",
   "name": "python",
   "nbconvert_exporter": "python",
   "pygments_lexer": "ipython3",
   "version": "3.6.6"
  }
 },
 "nbformat": 4,
 "nbformat_minor": 2
}
